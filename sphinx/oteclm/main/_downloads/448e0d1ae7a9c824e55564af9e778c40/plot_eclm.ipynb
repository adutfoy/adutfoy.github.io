{
  "cells": [
    {
      "cell_type": "code",
      "execution_count": null,
      "metadata": {
        "collapsed": false
      },
      "outputs": [],
      "source": [
        "%matplotlib inline"
      ]
    },
    {
      "cell_type": "markdown",
      "metadata": {},
      "source": [
        "\n# Extended Common Load Modelling\n"
      ]
    },
    {
      "cell_type": "markdown",
      "metadata": {},
      "source": [
        "Import the required modules\n\n"
      ]
    },
    {
      "cell_type": "code",
      "execution_count": null,
      "metadata": {
        "collapsed": false
      },
      "outputs": [],
      "source": [
        "import openturns as ot\nfrom openturns.viewer import View\nimport oteclm"
      ]
    },
    {
      "cell_type": "markdown",
      "metadata": {},
      "source": [
        "## Description\n\nWe consider a common cause failure (CCF) groupe with *n=7* identical and independent components. The total impact vector of this CCF group is estimated after N=1002100 demands or tests on the group.\n\n\\begin{align}V_t^{n,N} = [1000000, 2000, 200, 30, 20, 5, 0, 0]\\end{align}\n\n\n\n"
      ]
    },
    {
      "cell_type": "code",
      "execution_count": null,
      "metadata": {
        "collapsed": false
      },
      "outputs": [],
      "source": [
        "n = 7\nvectImpactTotal = ot.Indices(n+1)\nvectImpactTotal[0] = 1000000\nvectImpactTotal[1] = 2000\nvectImpactTotal[2] = 200\nvectImpactTotal[3] = 30\nvectImpactTotal[4] = 20\nvectImpactTotal[5] = 5\nvectImpactTotal[6] = 0\nvectImpactTotal[7] = 0"
      ]
    },
    {
      "cell_type": "markdown",
      "metadata": {},
      "source": [
        "Create the ECLM class. We will use the Gauss Legendre quadrature algorithm to compute all the integrals of the ECLM model. The use of 50 points is sufficicient to reach a good precision.\n\n"
      ]
    },
    {
      "cell_type": "code",
      "execution_count": null,
      "metadata": {
        "collapsed": false
      },
      "outputs": [],
      "source": [
        "myECLM = oteclm.ECLM(vectImpactTotal, ot.GaussLegendre([50]))"
      ]
    },
    {
      "cell_type": "markdown",
      "metadata": {},
      "source": [
        "## Estimate the optimal parameter\n\nWe use the Mankamo assumption. We use the maximum likelihood estimators of the *Mankamo parameter*. We want to get all the graphs of the likelihood function at the optimal Mankamo parameter.\n\nWe start by verifying that our starting point $(P_x, C_{co}, c_x)$ for the optimization algorithm verifies the constraints!\n\n\n"
      ]
    },
    {
      "cell_type": "code",
      "execution_count": null,
      "metadata": {
        "collapsed": false
      },
      "outputs": [],
      "source": [
        "startingPoint = [5.0e-3, 0.51, 0.85]\nprint(myECLM.verifyMankamoConstraints(startingPoint))"
      ]
    },
    {
      "cell_type": "markdown",
      "metadata": {},
      "source": [
        "If the point is not valid, we can ask for a valid one by giving $C_x$.\n\n"
      ]
    },
    {
      "cell_type": "code",
      "execution_count": null,
      "metadata": {
        "collapsed": false
      },
      "outputs": [],
      "source": [
        "startingPoint = myECLM.computeValidMankamoStartingPoint(0.7)\nstartingPoint"
      ]
    },
    {
      "cell_type": "markdown",
      "metadata": {},
      "source": [
        "Anyway, if the starting point is not valid, the function *estimateMaxLikelihoodFromMankamo* will automatically change it by itself.\n\n"
      ]
    },
    {
      "cell_type": "code",
      "execution_count": null,
      "metadata": {
        "collapsed": false
      },
      "outputs": [],
      "source": [
        "visuLikelihood = True\nmankamoParam, generalParam, finalLogLikValue, graphesCol = myECLM.estimateMaxLikelihoodFromMankamo(startingPoint, visuLikelihood, verbose=False)\nprint('Mankamo parameter : ', mankamoParam)\nprint('general parameter : ', generalParam)\nprint('finalLogLikValue : ', finalLogLikValue)"
      ]
    },
    {
      "cell_type": "code",
      "execution_count": null,
      "metadata": {
        "collapsed": false
      },
      "outputs": [],
      "source": [
        "gl = ot.GridLayout(2,3)\nfor i in range(6):\n    gl.setGraph(i//3, i%3, graphesCol[i])\nview = View(gl)\nview.show()"
      ]
    },
    {
      "cell_type": "markdown",
      "metadata": {},
      "source": [
        "## Compute the ECLM probabilities\n\n"
      ]
    },
    {
      "cell_type": "code",
      "execution_count": null,
      "metadata": {
        "collapsed": false
      },
      "outputs": [],
      "source": [
        "PEG_list = myECLM.computePEGall()\nprint('PEG_list = ', PEG_list)\nprint('')\n\nPSG_list = myECLM.computePSGall()\nprint('PSG_list = ', PSG_list)\nprint('')\n\nPES_list = myECLM.computePESall()\nprint('PES_list = ', PES_list)\nprint('')\n\nPTS_list = myECLM.computePTSall()\nprint('PTS_list = ', PTS_list)"
      ]
    },
    {
      "cell_type": "markdown",
      "metadata": {},
      "source": [
        "## Generate a sample of the parameters by Bootstrap\n\nWe use the bootstrap sampling to get a sample of total impact vectors. Each total impact vector value is associated to an optimal Mankamo parameter and an optimal general parameter.\nWe fix the size of the bootstrap sample.\nWe also fix the number of realisations after which the sample is saved.\nEach optimisation problem is initalised with the optimal parameter found for the total impact vector.\n\nThe sample is generated and saved in a csv file.\n\n"
      ]
    },
    {
      "cell_type": "code",
      "execution_count": null,
      "metadata": {
        "collapsed": false
      },
      "outputs": [],
      "source": [
        "Nbootstrap = 100\nblockSize = 256"
      ]
    },
    {
      "cell_type": "code",
      "execution_count": null,
      "metadata": {
        "collapsed": false
      },
      "outputs": [],
      "source": [
        "startingPoint = mankamoParam[1:4]\nfileNameSampleParam = 'sampleParamFromMankamo_{}.csv'.format(Nbootstrap)\nmyECLM.estimateBootstrapParamSampleFromMankamo(Nbootstrap, startingPoint, blockSize, fileNameSampleParam)\n\n# Create the sample of all the ECLM probabilities associated to the sample of the parameters."
      ]
    },
    {
      "cell_type": "code",
      "execution_count": null,
      "metadata": {
        "collapsed": false
      },
      "outputs": [],
      "source": [
        "fileNameECLMProbabilities = 'sampleECLMProbabilitiesFromMankamo_{}.csv'.format(Nbootstrap)\nmyECLM.computeECLMProbabilitiesFromMankano(blockSize, fileNameSampleParam, fileNameECLMProbabilities)"
      ]
    },
    {
      "cell_type": "markdown",
      "metadata": {},
      "source": [
        "## Graphically analyse the bootstrap sample of parameters\n\nWe create the Pairs graphs of the Mankamo and general parameters.\n\n"
      ]
    },
    {
      "cell_type": "code",
      "execution_count": null,
      "metadata": {
        "collapsed": false
      },
      "outputs": [],
      "source": [
        "graphPairsMankamoParam, graphPairsGeneralParam, graphMarg_list, descParam = myECLM.analyseGraphsECLMParam(fileNameSampleParam)"
      ]
    },
    {
      "cell_type": "code",
      "execution_count": null,
      "metadata": {
        "collapsed": false
      },
      "outputs": [],
      "source": [
        "view = View(graphPairsMankamoParam)\nview.show()"
      ]
    },
    {
      "cell_type": "code",
      "execution_count": null,
      "metadata": {
        "collapsed": false
      },
      "outputs": [],
      "source": [
        "view = View(graphPairsGeneralParam)\nview.show()\n\n# We estimate the distribution of each parameter with a Histogram and a normal kernel smoothing."
      ]
    },
    {
      "cell_type": "code",
      "execution_count": null,
      "metadata": {
        "collapsed": false
      },
      "outputs": [],
      "source": [
        "gl = ot.GridLayout(3,3)\nfor k in range(len(graphMarg_list)):\n    gl.setGraph(k//3, k%3, graphMarg_list[k])\nview = View(gl)\nview.show()"
      ]
    },
    {
      "cell_type": "markdown",
      "metadata": {},
      "source": [
        "## Graphically analyse the bootstrap sample of the ECLM probabilities\n\nWe create the Pairs graphs of all the ECLM probabilities. We limit the graphical study to the multiplicities lesser than $k_{max}$.\n\n"
      ]
    },
    {
      "cell_type": "code",
      "execution_count": null,
      "metadata": {
        "collapsed": false
      },
      "outputs": [],
      "source": [
        "kMax = 5\n\ngraphPairs_list, graphPEG_PES_PTS_list, graphMargPEG_list, graphMargPSG_list, graphMargPES_list, graphMargPTS_list, desc_list = myECLM.analyseGraphsECLMProbabilities(fileNameECLMProbabilities, kMax)"
      ]
    },
    {
      "cell_type": "code",
      "execution_count": null,
      "metadata": {
        "collapsed": false
      },
      "outputs": [],
      "source": [
        "descPairs = desc_list[0]\ndescPEG_PES_PTS = desc_list[1]\ndescMargPEG = desc_list[2]\ndescMargPSG = desc_list[3]\ndescMargPES = desc_list[4]\ndescMargPTS = desc_list[5]"
      ]
    },
    {
      "cell_type": "code",
      "execution_count": null,
      "metadata": {
        "collapsed": false
      },
      "outputs": [],
      "source": [
        "view = View(graphPairs_list[0])\nview.show()"
      ]
    },
    {
      "cell_type": "code",
      "execution_count": null,
      "metadata": {
        "collapsed": false
      },
      "outputs": [],
      "source": [
        "view = View(graphPairs_list[1])\nview.show()"
      ]
    },
    {
      "cell_type": "code",
      "execution_count": null,
      "metadata": {
        "collapsed": false
      },
      "outputs": [],
      "source": [
        "view = View(graphPairs_list[2])\nview.show()"
      ]
    },
    {
      "cell_type": "code",
      "execution_count": null,
      "metadata": {
        "collapsed": false
      },
      "outputs": [],
      "source": [
        "view = View(graphPairs_list[3])\nview.show()"
      ]
    },
    {
      "cell_type": "markdown",
      "metadata": {},
      "source": [
        "Fix a k <=kMax\n\n"
      ]
    },
    {
      "cell_type": "code",
      "execution_count": null,
      "metadata": {
        "collapsed": false
      },
      "outputs": [],
      "source": [
        "k = 0\nview = View(graphPEG_PES_PTS_list[k])\nview.show()"
      ]
    },
    {
      "cell_type": "code",
      "execution_count": null,
      "metadata": {
        "collapsed": false
      },
      "outputs": [],
      "source": [
        "len(graphMargPEG_list)\ngl = ot.GridLayout(2,3)\nfor k in range(len(graphMargPEG_list)):\n    gl.setGraph(k//3, k%3, graphMargPEG_list[k])\nview = View(gl)\nview.show()"
      ]
    },
    {
      "cell_type": "code",
      "execution_count": null,
      "metadata": {
        "collapsed": false
      },
      "outputs": [],
      "source": [
        "gl = ot.GridLayout(2,3)\nfor k in range(len(graphMargPSG_list)):\n    gl.setGraph(k//3, k%3, graphMargPSG_list[k])\nview = View(gl)\nview.show()"
      ]
    },
    {
      "cell_type": "code",
      "execution_count": null,
      "metadata": {
        "collapsed": false
      },
      "outputs": [],
      "source": [
        "gl = ot.GridLayout(2,3)\nfor k in range(len(graphMargPES_list)):\n    gl.setGraph(k//3, k%3, graphMargPES_list[k])\nview = View(gl)\nview.show()"
      ]
    },
    {
      "cell_type": "code",
      "execution_count": null,
      "metadata": {
        "collapsed": false
      },
      "outputs": [],
      "source": [
        "gl = ot.GridLayout(2,3)\nfor k in range(len(graphMargPTS_list)):\n    gl.setGraph(k//3, k%3, graphMargPTS_list[k])\nview = View(gl)\nview.show()"
      ]
    },
    {
      "cell_type": "markdown",
      "metadata": {},
      "source": [
        "## Fit a distribution to the ECLM probabilities\n\nWe fit a distribution among a given list to each ECLM probability. We test it with the Lilliefors test. \nWe also compute the confidence interval of the specified level.\n\n"
      ]
    },
    {
      "cell_type": "code",
      "execution_count": null,
      "metadata": {
        "collapsed": false
      },
      "outputs": [],
      "source": [
        "factoryColl = [ot.BetaFactory(), ot.LogNormalFactory(), ot.GammaFactory()]\nconfidenceLevel = 0.9\nIC_list, graphMarg_list, descMarg_list = myECLM.analyseDistECLMProbabilities(fileNameECLMProbabilities, kMax, confidenceLevel, factoryColl)\n\nIC_PEG_list, IC_PSG_list, IC_PES_list, IC_PTS_list = IC_list\ngraphMargPEG_list, graphMargPSG_list, graphMargPES_list, graphMargPTS_list = graphMarg_list\ndescMargPEG, descMargPSG, descMargPES, descMargPTS = descMarg_list"
      ]
    },
    {
      "cell_type": "code",
      "execution_count": null,
      "metadata": {
        "collapsed": false
      },
      "outputs": [],
      "source": [
        "for k in range(len(IC_PEG_list)):\n    print('IC_PEG_', k, ' = ', IC_PEG_list[k])\n\nfor k in range(len(IC_PSG_list)):\n    print('IC_PSG_', k, ' = ', IC_PSG_list[k])\n\nfor k in range(len(IC_PES_list)):\n    print('IC_PES_', k, ' = ', IC_PES_list[k])\n\nfor k in range(len(IC_PTS_list)):\n    print('IC_PTS_', k, ' = ', IC_PTS_list[k])\n\n# We draw all the estimated distributions and the title gives the best model."
      ]
    },
    {
      "cell_type": "code",
      "execution_count": null,
      "metadata": {
        "collapsed": false
      },
      "outputs": [],
      "source": [
        "gl = ot.GridLayout(2,3)\nfor k in range(len(graphMargPEG_list)):\n    gl.setGraph(k//3, k%3, graphMargPEG_list[k])\nview = View(gl)\nview.show()"
      ]
    },
    {
      "cell_type": "code",
      "execution_count": null,
      "metadata": {
        "collapsed": false
      },
      "outputs": [],
      "source": [
        "gl = ot.GridLayout(2,3)\nfor k in range(len(graphMargPSG_list)):\n    gl.setGraph(k//3, k%3, graphMargPSG_list[k])\nview = View(gl)\nview.show()"
      ]
    },
    {
      "cell_type": "code",
      "execution_count": null,
      "metadata": {
        "collapsed": false
      },
      "outputs": [],
      "source": [
        "gl = ot.GridLayout(2,3)\nfor k in range(len(graphMargPES_list)):\n        gl.setGraph(k//3, k%3, graphMargPES_list[k])\nview = View(gl)\nview.show()"
      ]
    },
    {
      "cell_type": "code",
      "execution_count": null,
      "metadata": {
        "collapsed": false
      },
      "outputs": [],
      "source": [
        "gl = ot.GridLayout(2,3)\nfor k in range(len(graphMargPTS_list)):\n    gl.setGraph(k//3, k%3, graphMargPTS_list[k])\nview = View(gl)\nview.show()"
      ]
    },
    {
      "cell_type": "markdown",
      "metadata": {},
      "source": [
        "## Analyse the minimal multiplicity which probability is greater than a given threshold\n\nWe fix *p* and we get the minimal multiplicity $k_{max}$ such that :\n\n\\begin{align}k_{max} = \\arg\\max \\{k| \\mbox{PTS}(k|n) \\geq p \\}\\end{align}\n\n\n"
      ]
    },
    {
      "cell_type": "code",
      "execution_count": null,
      "metadata": {
        "collapsed": false
      },
      "outputs": [],
      "source": [
        "p = 1.0e-5\nnameSeuil = '10M5'"
      ]
    },
    {
      "cell_type": "code",
      "execution_count": null,
      "metadata": {
        "collapsed": false
      },
      "outputs": [],
      "source": [
        "kMax = myECLM.computeKMaxPTS(p)\nprint('kMax = ', kMax)\n\n# Then we use the bootstrap sample of the Mankamo parameters to generate a sample of :math:`k_{max}`. We analyse the distribution of $k_{max}$: we estimate it with the empirical distribution and we derive a confidence interval of order :math:`90\\%`."
      ]
    },
    {
      "cell_type": "code",
      "execution_count": null,
      "metadata": {
        "collapsed": false
      },
      "outputs": [],
      "source": [
        "fileNameSampleParam = 'sampleParamFromMankamo_{}.csv'.format(Nbootstrap)\nfileNameSampleKmax = 'sampleKmaxFromMankamo_{}_{}.csv'.format(Nbootstrap, nameSeuil)\ngKmax = myECLM.computeAnalyseKMaxSample(p, blockSize, fileNameSampleParam, fileNameSampleKmax)"
      ]
    },
    {
      "cell_type": "code",
      "execution_count": null,
      "metadata": {
        "collapsed": false
      },
      "outputs": [],
      "source": [
        "view = View(gKmax)\nview.show()"
      ]
    }
  ],
  "metadata": {
    "kernelspec": {
      "display_name": "Python 3",
      "language": "python",
      "name": "python3"
    },
    "language_info": {
      "codemirror_mode": {
        "name": "ipython",
        "version": 3
      },
      "file_extension": ".py",
      "mimetype": "text/x-python",
      "name": "python",
      "nbconvert_exporter": "python",
      "pygments_lexer": "ipython3",
      "version": "3.11.0"
    }
  },
  "nbformat": 4,
  "nbformat_minor": 0
}